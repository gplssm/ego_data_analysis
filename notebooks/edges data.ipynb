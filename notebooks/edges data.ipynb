{
 "cells": [
  {
   "cell_type": "code",
   "execution_count": 38,
   "metadata": {},
   "outputs": [
    {
     "name": "stderr",
     "output_type": "stream",
     "text": [
      "/home/guido/miniconda3/envs/vis-tutorial/lib/python3.6/site-packages/IPython/core/interactiveshell.py:2728: DtypeWarning: Columns (3,4) have mixed types. Specify dtype option on import or set low_memory=False.\n",
      "  interactivity=interactivity, compiler=compiler, result=result)\n"
     ]
    },
    {
     "name": "stdout",
     "output_type": "stream",
     "text": [
      "MV grids have 695721 nodes in total and on avg. 205 nodes per MV grid\n",
      "MV grids have 564778 edges in total and on avg. 166 edges per MV grid\n",
      "Out of these nodes, 23191 exceed the voltage limit. These are scattered across 1031 MV grids.\n",
      "\n",
      "\n",
      "\n",
      "Out of 500k+ 2943 LV grids have nodes with voltage violations. These are in total 160670 nodes with voltage violations and on avg. 55 nodes per LV grid\n",
      "Out of 500k+ 1289 LV grids have edges with current exceeding the limit. These are in total 5748 on avg. 4 edges per LV grid\n"
     ]
    }
   ],
   "source": [
    "import pandas as pd\n",
    "import matplotlib.pyplot as plt\n",
    "\n",
    "%matplotlib inline\n",
    "\n",
    "mv_voltage_limit_load_case_pu = 0.05\n",
    "mv_voltage_limit_feedin_case_pu = 0.02\n",
    "\n",
    "mv_nodes = pd.read_csv('data/ding0_grids__0_to_3608_mv_crit_nodes.csv', index_col='MV_grid_id')\n",
    "mv_edges = pd.read_csv('data/ding0_grids__0_to_3608_mv_crit_edges.csv', index_col='MV_grid_id')\n",
    "lv_crit_nodes = pd.read_csv('data/ding0_grids__0_to_3608_lv_crit_nodes.csv', index_col='MV_grid_id')\n",
    "lv_crit_edges = pd.read_csv('data/ding0_grids__0_to_3608_lv_crit_edges.csv', index_col='MV_grid_id')\n",
    "\n",
    "mv_nodes_filtered = mv_nodes[mv_nodes['V_res_0'].apply(lambda x: not isinstance(x, str)) | mv_nodes['V_res_1'].apply(lambda x: not isinstance(x, str))]\n",
    "mv_crit_nodes = mv_nodes_filtered[(abs(mv_nodes_filtered['V_res_0'] - 1) > mv_voltage_limit_load_case_pu) | (abs(mv_nodes_filtered['V_res_1'] - 1) > mv_voltage_limit_feedin_case_pu)]\n",
    "\n",
    "print(\"MV grids have {nodes} nodes in total and on avg. {avg:.0f} nodes per MV grid\".format(nodes=len(mv_nodes), avg=len(mv_nodes)/len(mv_nodes.index.unique())))\n",
    "print(\"MV grids have {edges} edges in total and on avg. {avg:.0f} edges per MV grid\".format(edges=len(mv_edges), avg=len(mv_edges)/len(mv_edges.index.unique())))\n",
    "print(\"Out of these nodes, {number} exceed the voltage limit. These are scattered across {grids} MV grids.\".format(number=len(mv_crit_nodes), grids=len(mv_crit_nodes.index.unique())))\n",
    "\n",
    "print(\"\\n\\n\")\n",
    "print(\"Out of 500k+ {grids} LV grids have nodes with voltage violations. These are in total {nodes} nodes with voltage violations and on avg. {avg:.0f} nodes per LV grid\".format(nodes=len(lv_crit_nodes), avg=len(lv_crit_nodes)/len(lv_crit_nodes.index.unique()),grids=len(lv_crit_nodes.index.unique())))\n",
    "print(\"Out of 500k+ {grids} LV grids have edges with current exceeding the limit. These are in total {edges} on avg. {avg:.0f} edges per LV grid\".format(edges=len(lv_crit_edges), avg=len(lv_crit_edges)/len(lv_crit_edges.index.unique()),grids=len(lv_crit_edges.index.unique())))"
   ]
  },
  {
   "cell_type": "code",
   "execution_count": null,
   "metadata": {},
   "outputs": [],
   "source": []
  }
 ],
 "metadata": {
  "celltoolbar": "Edit Metadata",
  "kernelspec": {
   "display_name": "Python 3",
   "language": "python",
   "name": "python3"
  },
  "language_info": {
   "codemirror_mode": {
    "name": "ipython",
    "version": 3
   },
   "file_extension": ".py",
   "mimetype": "text/x-python",
   "name": "python",
   "nbconvert_exporter": "python",
   "pygments_lexer": "ipython3",
   "version": "3.6.3"
  }
 },
 "nbformat": 4,
 "nbformat_minor": 1
}
